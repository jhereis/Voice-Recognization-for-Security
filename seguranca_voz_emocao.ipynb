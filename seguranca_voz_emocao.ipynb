{
 "cells": [
  {
   "cell_type": "markdown",
   "metadata": {},
   "source": [
    "# \ud83d\udd10 Sistema de Seguran\u00e7a por Voz com Reconhecimento de Emo\u00e7\u00f5es\n",
    "Este notebook grava sua voz, reconhece o texto usando IBM Watson e detecta a emo\u00e7\u00e3o do seu tom de voz para autorizar ou negar acesso."
   ]
  },
  {
   "cell_type": "code",
   "execution_count": null,
   "metadata": {},
   "outputs": [],
   "source": [
    "# \ud83d\udce6 Importa\u00e7\u00f5es\n",
    "import sounddevice as sd\n",
    "from scipy.io.wavfile import write\n",
    "import librosa\n",
    "import numpy as np\n",
    "import tensorflow as tf\n",
    "import uuid\n",
    "import os\n",
    "from ibm_watson import SpeechToTextV1\n",
    "from ibm_cloud_sdk_core.authenticators import IAMAuthenticator"
   ]
  },
  {
   "cell_type": "code",
   "execution_count": null,
   "metadata": {},
   "outputs": [],
   "source": [
    "# \ud83d\udd10 Configura\u00e7\u00f5es da API IBM Watson\n",
    "API_KEY = Yi-T3CI6gIkMxQemgwHCUCZHmVCQUQpdcNByWeZHHELl\n",
    "URL = ApiKey-268a27bf-f7e1-4390-9536-6c29f6c9ff76\n",
    "\n",
    "authenticator = IAMAuthenticator(API_KEY)\n",
    "stt = SpeechToTextV1(authenticator=authenticator)\n",
    "stt.set_service_url(URL)"
   ]
  },
  {
   "cell_type": "code",
   "execution_count": null,
   "metadata": {},
   "outputs": [],
   "source": [
    "# \ud83c\udf99\ufe0f Fun\u00e7\u00f5es de Grava\u00e7\u00e3o e Reconhecimento\n",
    "def gravar_audio(duracao=5, arquivo=\"voz.wav\"):\n",
    "    fs = 44100\n",
    "    print(\"\ud83c\udf99\ufe0f Gravando...\")\n",
    "    audio = sd.rec(int(duracao * fs), samplerate=fs, channels=1)\n",
    "    sd.wait()\n",
    "    write(arquivo, fs, audio)\n",
    "    print(\"\u2705 Grava\u00e7\u00e3o salva:\", arquivo)\n",
    "\n",
    "def reconhecer_voz_ibm(arquivo):\n",
    "    with open(arquivo, 'rb') as audio_file:\n",
    "        resposta = stt.recognize(\n",
    "            audio=audio_file,\n",
    "            content_type='audio/wav',\n",
    "            model='pt-BR_BroadbandModel'\n",
    "        ).get_result()\n",
    "    try:\n",
    "        texto = resposta['results'][0]['alternatives'][0]['transcript']\n",
    "        return texto.strip().lower()\n",
    "    except:\n",
    "        return None"
   ]
  },
  {
   "cell_type": "code",
   "execution_count": null,
   "metadata": {},
   "outputs": [],
   "source": [
    "# \ud83e\udde0 Fun\u00e7\u00e3o de Detec\u00e7\u00e3o de Emo\u00e7\u00e3o Simulada\n",
    "def extrair_emocao(_):\n",
    "    return np.random.choice(['calmo', 'feliz', 'triste', 'raiva'])"
   ]
  },
  {
   "cell_type": "code",
   "execution_count": null,
   "metadata": {},
   "outputs": [],
   "source": [
    "# \ud83d\udd12 Sistema de Seguran\u00e7a\n",
    "def sistema_seguranca():\n",
    "    nome_arquivo = f\"voz_{uuid.uuid4().hex}.wav\"\n",
    "    gravar_audio(5, nome_arquivo)\n",
    "    \n",
    "    texto = reconhecer_voz_ibm(nome_arquivo)\n",
    "    emocao = extrair_emocao(nome_arquivo)\n",
    "\n",
    "    print(f\"\\n\ud83d\udde3\ufe0f Texto reconhecido: {texto}\")\n",
    "    print(f\"\ud83e\udde0 Emo\u00e7\u00e3o detectada: {emocao}\")\n",
    "\n",
    "    if texto and \"acesso autorizado\" in texto:\n",
    "        if emocao in ['calmo', 'feliz']:\n",
    "            print(\"\u2705 Acesso liberado.\")\n",
    "        else:\n",
    "            print(\"\u26a0\ufe0f Frase correta, mas emo\u00e7\u00e3o suspeita.\")\n",
    "    else:\n",
    "        print(\"\u274c Acesso negado.\")\n",
    "    \n",
    "    os.remove(nome_arquivo)"
   ]
  },
  {
   "cell_type": "code",
   "execution_count": null,
   "metadata": {},
   "outputs": [],
   "source": [
    "# \u25b6\ufe0f Executar o sistema\n",
    "sistema_seguranca()"
   ]
  }
 ],
 "metadata": {
  "kernelspec": {
   "display_name": "Python 3",
   "language": "python",
   "name": "python3"
  },
  "language_info": {
   "name": "python",
   "version": "3.10"
  }
 },
 "nbformat": 4,
 "nbformat_minor": 5
}
