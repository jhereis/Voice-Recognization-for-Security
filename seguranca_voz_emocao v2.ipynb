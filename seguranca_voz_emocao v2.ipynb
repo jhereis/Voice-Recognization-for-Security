{
 "cells": [
  {
   "cell_type": "markdown",
   "id": "5d5ed726",
   "metadata": {},
   "source": [
    "# 🔐 Sistema de Segurança por Voz com Reconhecimento de Emoções\n",
    "Este notebook grava sua voz, reconhece o texto usando IBM Watson e detecta a emoção do seu tom de voz para autorizar ou negar acesso."
   ]
  },
  {
   "cell_type": "code",
   "execution_count": 28,
   "id": "ff4ee9b9-338f-45e5-8435-f1f1567d07ee",
   "metadata": {},
   "outputs": [],
   "source": [
    "import warnings\n",
    "warnings.filterwarnings(\"ignore\", category=DeprecationWarning)\n"
   ]
  },
  {
   "cell_type": "code",
   "execution_count": 29,
   "id": "b1fb98f1",
   "metadata": {},
   "outputs": [],
   "source": [
    "# 📦 Importações\n",
    "import sounddevice as sd\n",
    "from scipy.io.wavfile import write\n",
    "import librosa\n",
    "import numpy as np\n",
    "import tensorflow as tf\n",
    "from tensorflow.keras.models import load_model\n",
    "import uuid\n",
    "import os\n",
    "from ibm_watson import SpeechToTextV1\n",
    "from ibm_cloud_sdk_core.authenticators import IAMAuthenticator"
   ]
  },
  {
   "cell_type": "code",
   "execution_count": 35,
   "id": "046e3388-a5b8-48fd-9d77-dc62a356ae68",
   "metadata": {},
   "outputs": [
    {
     "name": "stdout",
     "output_type": "stream",
     "text": [
      "     emoção                      frase\n",
      "0     raiva          eu estou convicto\n",
      "1     raiva         isso é inaceitável\n",
      "2     raiva           não suporto mais\n",
      "3  tristeza  estou me sentindo sozinho\n",
      "4  tristeza           nada faz sentido\n"
     ]
    }
   ],
   "source": [
    "import pandas as pd\n",
    "\n",
    "# Carregar o CSV\n",
    "df_csv = pd.read_csv(\"emocoes_padrao.csv\")\n",
    "\n",
    "# Mostrar as primeiras linhas\n",
    "print(df_csv.head())\n"
   ]
  },
  {
   "cell_type": "code",
   "execution_count": 41,
   "id": "7f35dcd3",
   "metadata": {},
   "outputs": [],
   "source": [
    "# 🔐 Configurações da API IBM Watson\n",
    "API_KEY = '_0GwP85CeCaKSUKOSz008pCbyvbtFwEN1apk_BCBZUde'\n",
    "URL = 'https://api.au-syd.speech-to-text.watson.cloud.ibm.com/instances/eeb1d325-cf7b-4cf3-babd-cb0e4f8ea11f'\n",
    "\n",
    "authenticator = IAMAuthenticator(API_KEY)\n",
    "stt = SpeechToTextV1(authenticator=authenticator)\n",
    "stt.set_service_url('https://api.au-syd.speech-to-text.watson.cloud.ibm.com/instances/eeb1d325-cf7b-4cf3-babd-cb0e4f8ea11f')"
   ]
  },
  {
   "cell_type": "code",
   "execution_count": 42,
   "id": "4c034041-9242-4442-815d-d9c6308d48ef",
   "metadata": {},
   "outputs": [],
   "source": [
    "# 🧠 Função de Detecção de Emoção Simulada\n",
    "def identificar_emocao_por_texto(texto):\n",
    "    texto = texto.lower()\n",
    "    if any(palavra in texto for palavra in [\"socorro\", \"estou com medo\", \"ajuda\", \"não me machuca\"]):\n",
    "        return \"medo\"\n",
    "    elif any(palavra in texto for palavra in [\"não aguento\", \"você não me escuta\", \"irritar\"]):\n",
    "        return \"raiva\"\n",
    "    elif any(palavra in texto for palavra in [\"triste\", \"sozinho\", \"ninguém me entende\"]):\n",
    "        return \"tristeza\"\n",
    "    elif any(palavra in texto for palavra in [\"feliz\", \"consegui\", \"incrível\"]):\n",
    "        return \"alegria\"\n",
    "    elif any(palavra in texto for palavra in [\"ansioso\", \"nervoso\", \"e se\"]):\n",
    "        return \"ansiedade\"\n",
    "    elif any(palavra in texto for palavra in [\"te amo\", \"sinto sua falta\", \"você me faz bem\"]):\n",
    "        return \"amor\"\n",
    "    else:\n",
    "        return \"neutro\"\n"
   ]
  },
  {
   "cell_type": "code",
   "execution_count": 43,
   "id": "e4c2a5b1",
   "metadata": {},
   "outputs": [],
   "source": [
    "# 🎙️ Funções de Gravação e Reconhecimento\n",
    "def gravar_audio(duracao=5, arquivo=\"voz.wav\"):\n",
    "    fs = 44100\n",
    "    print(\"🎙️ Gravando...\")\n",
    "    audio = sd.rec(int(duracao * fs), samplerate=fs, channels=1)\n",
    "    sd.wait()\n",
    "    write(arquivo, fs, audio)\n",
    "    print(\"✅ Gravação salva:\", arquivo)\n",
    "\n",
    "def reconhecer_voz_ibm(arquivo):\n",
    "    with open(arquivo, 'rb') as audio_file:\n",
    "        resposta = stt.recognize(\n",
    "            audio=audio_file,\n",
    "            content_type='audio/wav',\n",
    "            model='pt-BR_BroadbandModel'\n",
    "        ).get_result()\n",
    "    try:\n",
    "        texto = resposta['results'][0]['alternatives'][0]['transcript']\n",
    "        return texto.strip().lower()\n",
    "    except:\n",
    "        return None"
   ]
  },
  {
   "cell_type": "code",
   "execution_count": 44,
   "id": "4445ba89",
   "metadata": {},
   "outputs": [],
   "source": [
    "# Simulação de predição com modelo de emoção (aqui está fake, só para testar)\n",
    "def extrair_emocao(arquivo):\n",
    "    y, sr = librosa.load(arquivo, sr=None)\n",
    "    mfcc = librosa.feature.mfcc(y=y, sr=sr, n_mfcc=40)\n",
    "    mfcc = np.mean(mfcc.T, axis=0)\n",
    "\n",
    "    # Simulando emoção\n",
    "    emocoes_fake = ['raiva', 'feliz', 'neutro', 'triste']\n",
    "    return np.random.choice(emocoes_fake)\n"
   ]
  },
  {
   "cell_type": "code",
   "execution_count": 45,
   "id": "6b891bad",
   "metadata": {},
   "outputs": [],
   "source": [
    "# 🔒 Sistema de Segurança\n",
    "def sistema_seguranca():\n",
    "    nome_arquivo = f\"voz_{uuid.uuid4().hex}.wav\"\n",
    "    gravar_audio(5, nome_arquivo)\n",
    "    \n",
    "    texto = reconhecer_voz_ibm(nome_arquivo)\n",
    "    emocao = extrair_emocao(nome_arquivo)\n",
    "\n",
    "    print(f\"\\n🗣️ Texto reconhecido: {texto}\")\n",
    "    print(f\"🧠 Emoção detectada: {emocao}\")\n",
    "\n",
    "    if texto and \"acesso autorizado\" in texto:\n",
    "        if emocao in ['calmo', 'feliz']:\n",
    "            print(\"✅ Acesso liberado.\")\n",
    "        else:\n",
    "            print(\"⚠️ Frase correta, mas emoção suspeita.\")\n",
    "    else:\n",
    "        print(\"❌ Acesso negado.\")\n",
    "    \n",
    "    os.remove(nome_arquivo)"
   ]
  },
  {
   "cell_type": "code",
   "execution_count": 54,
   "id": "89695260",
   "metadata": {},
   "outputs": [
    {
     "name": "stdout",
     "output_type": "stream",
     "text": [
      "🎙️ Gravando...\n",
      "✅ Gravação salva: voz_179701d972fe4c6694144078482933e5.wav\n",
      "\n",
      "🗣️ Texto reconhecido: é um pouco cedo antes de\n",
      "🧠 Emoção detectada: raiva\n",
      "❌ Acesso negado.\n"
     ]
    }
   ],
   "source": [
    "# ▶️ Executar o sistema\n",
    "sistema_seguranca()"
   ]
  }
 ],
 "metadata": {
  "kernelspec": {
   "display_name": "Python 3 (ipykernel)",
   "language": "python",
   "name": "python3"
  },
  "language_info": {
   "codemirror_mode": {
    "name": "ipython",
    "version": 3
   },
   "file_extension": ".py",
   "mimetype": "text/x-python",
   "name": "python",
   "nbconvert_exporter": "python",
   "pygments_lexer": "ipython3",
   "version": "3.12.7"
  }
 },
 "nbformat": 4,
 "nbformat_minor": 5
}
